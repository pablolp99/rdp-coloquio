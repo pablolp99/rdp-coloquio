{
 "cells": [
  {
   "cell_type": "markdown",
   "id": "35cf8874-bf3a-4dfc-ab5a-567c0d0df890",
   "metadata": {
    "tags": []
   },
   "source": [
    "# Regresion Lineal\n",
    "## Reconocimiento de Patrones (1c 2021)"
   ]
  },
  {
   "cell_type": "code",
   "execution_count": 1,
   "id": "6be69b1d-37b1-4668-9f17-2c16d0cabe85",
   "metadata": {},
   "outputs": [],
   "source": [
    "import numpy as np\n",
    "import pandas as pd\n",
    "import matplotlib.pyplot as plt"
   ]
  },
  {
   "cell_type": "code",
   "execution_count": 2,
   "id": "82a4e18e-389e-4f8d-abe1-cddd58e2a657",
   "metadata": {},
   "outputs": [],
   "source": [
    "def func1(x):\n",
    "    return 2 * x - 2 + (np.random.normal(0, 0.1, size=len(x)))    "
   ]
  },
  {
   "cell_type": "markdown",
   "id": "4bc0469e-f06e-44d1-929e-6138b765e99d",
   "metadata": {},
   "source": [
    "Para este ejemplo se generaran datos siguiendo la siguiente funcion\n",
    "    \n",
    "   $$ g(x) = \\sin (x \\pi) + \\epsilon $$\n",
    "Con $\\epsilon \\sim \\mathcal{N}(x | \\mu, \\sigma) $ y $\\mu=0,\\sigma=0.1$.\n",
    "\n",
    "Sea $ \\boldsymbol{x}_i = [x_1, \\dots, x_D] $, siendo $D$ la dimension del problema (o datos), el modelo de regresion lineal seria\n",
    "\n",
    "   $$ y(\\boldsymbol{x}, \\boldsymbol{w}) = w_0 + w_1 x_1 + \\dots + w_D x_D = w_0 + \\sum_{j=1}^D w_j  x_j $$\n",
    "\n",
    "siendo $\\boldsymbol{w}$ un vector de pesos inicializados aleatoriamente. Redefiniendo a $\\boldsymbol{x}$ como\n",
    "   \n",
    "   $$ \\boldsymbol{x} = [1, x_1, \\dots, x_D] $$\n",
    "  \n",
    "Nos queda que\n",
    "   \n",
    "   $$ y(\\boldsymbol{x}, \\boldsymbol{w}) = \\boldsymbol{w}^t \\boldsymbol{x} $$\n",
    "\n",
    "<!-- Los $x$ pertenecen a un rango entre 0 y 1, y $X$ es el vector que los contiene. En total son 100 puntos -->"
   ]
  },
  {
   "cell_type": "code",
   "execution_count": 3,
   "id": "231a1e78-373f-4eb4-b7b0-a0b8a68163eb",
   "metadata": {},
   "outputs": [],
   "source": [
    "X = np.linspace(0, 1, num=100)\n",
    "y = func1(X)\n",
    "\n",
    "X = X.reshape((100,1))\n",
    "# Agregamos el 1 a cada vector de X\n",
    "X1 = np.concatenate((np.ones(100).reshape((100,1)), X), axis=1)"
   ]
  },
  {
   "cell_type": "markdown",
   "id": "5cfc3595-3e57-462f-89d5-a2a6f8aa7b0e",
   "metadata": {},
   "source": [
    "$$ y_1 = w_0 * x_{10} + w_1 * x_{11} $$"
   ]
  },
  {
   "cell_type": "code",
   "execution_count": 4,
   "id": "7d1837c1-1439-4a36-a8fd-7d1c69e54e62",
   "metadata": {},
   "outputs": [
    {
     "data": {
      "image/png": "[encoded data removed]",
      "text/plain": [
       "<Figure size 432x288 with 1 Axes>"
      ]
     },
     "metadata": {
      "needs_background": "light"
     },
     "output_type": "display_data"
    }
   ],
   "source": [
    "plt.scatter(X, y)\n",
    "plt.show()"
   ]
  },
  {
   "cell_type": "markdown",
   "id": "2f4df9e2-38c1-47de-b28b-2b85579fa5a3",
   "metadata": {},
   "source": [
    "Tenemos definido el error cuadratico medio como\n",
    "\n",
    "   $$ \\sum_{i=1}^N (y_i - \\boldsymbol{w}^t \\boldsymbol{x}_i)^2 $$"
   ]
  },
  {
   "cell_type": "markdown",
   "id": "5f5e061b-ed1f-4f16-b259-154434b5d1b8",
   "metadata": {},
   "source": [
    "Entonces la matrix $X1$ es aquella que posee los $N$ vectores extendidos $\\boldsymbol{x}_1, \\dots , \\boldsymbol{x}_N$"
   ]
  },
  {
   "cell_type": "code",
   "execution_count": 5,
   "id": "b015ede2-e2ec-47d3-99bf-93d9168cc10e",
   "metadata": {},
   "outputs": [],
   "source": [
    "# Calculamos la pseudo-inversa de X1 ( (X^T X)^-1 X^T )\n",
    "X1_p =  np.linalg.pinv(X1)\n",
    "\n",
    "# Calculamos w_hat\n",
    "w_hat = X1_p.dot(y)"
   ]
  },
  {
   "cell_type": "code",
   "execution_count": 6,
   "id": "895f852f-a433-4f88-93bd-f6fd6d5e95d4",
   "metadata": {},
   "outputs": [
    {
     "data": {
      "text/plain": [
       "array([-1.99397943,  1.99759813])"
      ]
     },
     "execution_count": 6,
     "metadata": {},
     "output_type": "execute_result"
    }
   ],
   "source": [
    "w_hat"
   ]
  },
  {
   "cell_type": "code",
   "execution_count": 7,
   "id": "dc94e8fa-f40a-44c3-ba19-bdc963c6c27f",
   "metadata": {},
   "outputs": [
    {
     "data": {
      "image/png": "[encoded data removed]",
      "text/plain": [
       "<Figure size 432x288 with 1 Axes>"
      ]
     },
     "metadata": {
      "needs_background": "light"
     },
     "output_type": "display_data"
    }
   ],
   "source": [
    "plt.scatter(X, y, alpha=0.3)\n",
    "plt.plot(X, list(map(lambda x: w_hat.dot(x), X1)), color=\"red\", linewidth=2)\n",
    "plt.show()"
   ]
  },
  {
   "cell_type": "code",
   "execution_count": 8,
   "id": "ca79b293-cdca-4fe9-bd57-417e942bec4c",
   "metadata": {},
   "outputs": [],
   "source": [
    "def linear_regression(x, y):\n",
    "    x = x.reshape((100,1))\n",
    "    # Agregamos el 1 a cada vector de X\n",
    "    x1 = np.concatenate((np.ones(100).reshape((100,1)), x), axis=1)\n",
    "    # Calculamos la pseudo-inversa de X1 ( (X^T X)^-1 X^T )\n",
    "    x1_p =  np.linalg.pinv(x1)\n",
    "    # Calculamos w_hat\n",
    "    return x1_p.dot(y)"
   ]
  },
  {
   "cell_type": "markdown",
   "id": "7ea3a991-e690-4fe6-a9f7-682cb469f0e3",
   "metadata": {},
   "source": [
    "---\n",
    "Esto sirve para aquellos casos donde los datos son lineales, como la anterior que era $y=2x-2$, pero si subimos la complejidad a otra funcion, esto cambia"
   ]
  },
  {
   "cell_type": "code",
   "execution_count": 9,
   "id": "5ae9c8ba-7e5b-4cf9-b14d-7ee15fe25357",
   "metadata": {},
   "outputs": [],
   "source": [
    "def func2(x):\n",
    "    return np.sin(x * np.pi) + (np.random.normal(0, 0.1, size=len(x)))"
   ]
  },
  {
   "cell_type": "code",
   "execution_count": 10,
   "id": "fcc92c96-4577-4a20-b3d0-4ead029e168a",
   "metadata": {},
   "outputs": [],
   "source": [
    "X_2 = np.linspace(0, 1, num=100)\n",
    "y_2 = func2(X_2)"
   ]
  },
  {
   "cell_type": "code",
   "execution_count": 11,
   "id": "c0839fb1-4ce6-426c-9829-f814b577d305",
   "metadata": {},
   "outputs": [],
   "source": [
    "wh_2 = linear_regression(X_2, y_2)\n",
    "X_2_p = X_2.reshape((100,1))\n",
    "X_2_p = np.concatenate((np.ones(100).reshape((100,1)), X_2_p), axis=1)"
   ]
  },
  {
   "cell_type": "code",
   "execution_count": 12,
   "id": "b08a8413-06f8-43f9-9a20-98a20d60ddf2",
   "metadata": {},
   "outputs": [
    {
     "data": {
      "image/png": "[encoded data removed]",
      "text/plain": [
       "<Figure size 432x288 with 1 Axes>"
      ]
     },
     "metadata": {
      "needs_background": "light"
     },
     "output_type": "display_data"
    }
   ],
   "source": [
    "plt.scatter(X_2, y_2, alpha=0.4)\n",
    "plt.plot(X_2, list(map(lambda x: wh_2.dot(x), X_2_p)), color=\"red\", linewidth=2)\n",
    "plt.show()"
   ]
  },
  {
   "cell_type": "markdown",
   "id": "7f9d461b-2b4b-4e6b-b797-b74edd8dbd65",
   "metadata": {},
   "source": [
    "Vemos que una linea recta no es el mejor fit para el modelo"
   ]
  },
  {
   "cell_type": "markdown",
   "id": "6afa7d21-d427-438c-89b4-5980d9368278",
   "metadata": {},
   "source": [
    "---\n",
    "## Modelos con funciones base\n",
    "Para combatir este problema, cambiaremos un poco la forma de nuestro modelo lineal. Generalizaremos los $x_{j}$ por $M-1$ funciones \n",
    "\n",
    "   $$ \\{ \\phi_j(\\boldsymbol{x}) : \\mathbb{R}^D \\rightarrow \\mathbb{R} \\}_{j=1,\\dots,M-1} $$\n",
    "   \n",
    "De forma tal que nos queda\n",
    "\n",
    "   $$ y(\\boldsymbol{x}, \\boldsymbol{w}) = w_0 + w_1 \\phi_1(\\boldsymbol{x}) + \\dots + w_{M-1} \\phi_{M-1}(\\boldsymbol{x}) = w_0 + \\sum_{j=1}^{M-1} w_j \\phi_j(\\boldsymbol{x}) $$\n",
    "   \n",
    "Definiendo $\\phi_0(\\boldsymbol{x})$ = 1, podemos reformular y obtener\n",
    "\n",
    "   $$ y(\\boldsymbol{x}, \\boldsymbol{w}) = w_0 \\phi_0(\\boldsymbol{x}) + w_1 \\phi_1(\\boldsymbol{x}) + \\dots + w_{M-1} \\phi_{M-1}(\\boldsymbol{x}) = \\sum_{j=0}^{M-1} w_j \\phi_j(\\boldsymbol{x}) = \\boldsymbol{w}^T \\boldsymbol{\\phi}(\\boldsymbol{x}) $$"
   ]
  },
  {
   "cell_type": "markdown",
   "id": "c7871ecf-16b7-4b2c-b32f-58425e0f2325",
   "metadata": {},
   "source": [
    "Resolviendo para un estimador de Maxima Verosimilitud y con Cuadrados Minimos, obtenemos que \n",
    "\n",
    "   $$ \\boldsymbol{w}_{MV} =  ( \\boldsymbol{\\Phi}^T \\boldsymbol{\\Phi} )^{-1} \\boldsymbol{\\Phi}^T \\boldsymbol{y} $$\n",
    "   \n",
    "Donde $\\boldsymbol{\\Phi}$ es la matriz que contiene a los vectores extendidos $\\boldsymbol{\\phi}^T(\\boldsymbol{x_j})$\n",
    "\n",
    "$$ \\boldsymbol{\\Phi} = \\boldsymbol{\\Phi}(\\boldsymbol{X}) = \\begin{bmatrix} \\boldsymbol{\\phi}^T(\\boldsymbol{x}_1) \\\\ \\vdots \\\\ \\boldsymbol{\\phi}^T(\\boldsymbol{x}_N) \\end{bmatrix}$$"
   ]
  },
  {
   "cell_type": "markdown",
   "id": "3af9f13e-62a3-4c00-81c8-5df812cfa002",
   "metadata": {},
   "source": [
    "def func2(x):\n",
    "    return np.sin(x * 1.5 * np.pi) + (np.random.normal(0, 0.1, size=len(x)))"
   ]
  },
  {
   "cell_type": "markdown",
   "id": "3b2ab593-f3b5-478c-a806-3952ff1094c1",
   "metadata": {},
   "source": [
    "De esta forma podemos usar distintas familias de funciones base, tales como Gaussianas, sigmoideas, etc"
   ]
  },
  {
   "cell_type": "code",
   "execution_count": 13,
   "id": "0ed68fdc-8208-4706-ac74-08ada482da1d",
   "metadata": {},
   "outputs": [],
   "source": [
    "def bfunc1(x, mu, gamma=1):\n",
    "    return np.exp(-gamma * np.linalg.norm(mu-x)**2)"
   ]
  },
  {
   "cell_type": "code",
   "execution_count": 37,
   "id": "ae0922ec-81f0-404d-8bc6-14536f4cd127",
   "metadata": {},
   "outputs": [],
   "source": [
    "X = np.linspace(0, 2, num=100)\n",
    "y = func2(X)\n",
    "M = 4"
   ]
  },
  {
   "cell_type": "code",
   "execution_count": 15,
   "id": "509df380-3514-42d3-b23e-4fb58d948671",
   "metadata": {},
   "outputs": [],
   "source": [
    "# Calculate design matrix Phi\n",
    "Phi = np.ones((y.shape[0], M))\n",
    "for m in range(M-1):\n",
    "    mu = m/M\n",
    "    Phi[:, m+1] = np.vectorize(bfunc1)(X, mu)\n",
    "\n",
    "Phi_pinv = np.linalg.pinv(Phi)\n",
    "# Calculamos w_hat\n",
    "w_hat = Phi_pinv.dot(y)\n",
    "alpha = sum((y - Phi @ w_hat)**2) / len(y)"
   ]
  },
  {
   "cell_type": "code",
   "execution_count": 16,
   "id": "0de4a95b-dcd3-4dec-82ec-c091a94a78b8",
   "metadata": {},
   "outputs": [
    {
     "name": "stdout",
     "output_type": "stream",
     "text": [
      "[-3.44817964 -0.06761996  0.21713166  4.28403452] \n",
      " 0.011899674541357163\n"
     ]
    }
   ],
   "source": [
    "print(w_hat, \"\\n\", alpha)"
   ]
  },
  {
   "cell_type": "code",
   "execution_count": 38,
   "id": "16d70b78-54da-4941-bb01-ee50b7db276b",
   "metadata": {},
   "outputs": [
    {
     "data": {
      "image/png": "[encoded data removed]",
      "text/plain": [
       "<Figure size 432x288 with 1 Axes>"
      ]
     },
     "metadata": {
      "needs_background": "light"
     },
     "output_type": "display_data"
    }
   ],
   "source": [
    "plt.scatter(X, y, alpha=0.3)\n",
    "plt.plot(X, list(map(lambda x: w_hat.dot(x), Phi)), color=\"red\", linewidth=2)\n",
    "plt.show()"
   ]
  },
  {
   "cell_type": "markdown",
   "id": "d2d44a4c-0fdc-44fa-aba3-9fd56f7384cc",
   "metadata": {},
   "source": [
    "## Aprendizaje Secuencial\n",
    "\n",
    "Como otra forma de aprendizaje se puede aplicar entrenamiento de forma iterativa, ya que puede ser de utilizad instancias intermedias del proceso de aprendizaje. Para esto podemos citar el Stochastic Gradient Descent, donde calculamos el error promedio para cada lote de datos. Luego este error se puede utilizar para actualizar el valor de $ \\boldsymbol{w} $. Llamando $E=\\sum_n E_n / N$ al error promedio cada $N$ muestras, la actualizacion de $ \\boldsymbol{w} $\n",
    "\n",
    "   $$ \\boldsymbol{w}^{\\tau+1} = \\boldsymbol{w}^\\tau - \\eta \\nabla E^\\tau  $$\n",
    "\n",
    "Donde $\\tau$ es el epoch (numero de iteracion) y $\\eta$ es un parametro llamado learning rate. Este parametro es clave para no causar un aprendizaje muy lento, ni uno que no pueda minimizar."
   ]
  },
  {
   "cell_type": "markdown",
   "id": "84327c92-4a47-4052-b35d-80bb784fd56e",
   "metadata": {},
   "source": [
    "## Regularizacion\n",
    "\n",
    "Para evitar el overfitting en nuestro modelo de Regresion Lineal, introducimos un termino de regularizacion en la formula de cuadrados minimos. Para eso necesitamos un parametro de regularizacion\n",
    "\n",
    "Para simplificar y no repetir todo el tiempo el codigo, creo el objeto regresor lineal al que se le agregara el termino de regularizacion"
   ]
  },
  {
   "cell_type": "code",
   "execution_count": 18,
   "id": "d1dbcc9e-9792-46ca-b6f6-4f4b583a41e1",
   "metadata": {},
   "outputs": [],
   "source": [
    "class LinearRegression:\n",
    "    def __init__(self, x, y, m=1, base_function=None, l=0):\n",
    "        self.x = x\n",
    "        self.y = y\n",
    "        self.m = m\n",
    "        self.base_function = base_function\n",
    "        self.l = l\n",
    "    \n",
    "    def vectorize(self, x, y):\n",
    "        # Calculate design matrix Phi\n",
    "        phi = np.ones((y.shape[0], self.m))\n",
    "        for m in range(self.m-1):\n",
    "            mu = m/self.m\n",
    "            phi[:, m+1] = (\n",
    "                np.vectorize(self.base_function)(x, mu)\n",
    "            )\n",
    "        return phi\n",
    "    \n",
    "    def fit(self):\n",
    "        self.phi = self.vectorize(self.x, self.y)\n",
    "        self.w = np.linalg.inv(\n",
    "            (self.phi.T @ self.phi) + self.l * np.identity(self.m)\n",
    "        ) @ self.phi.T @ self.y\n",
    "        self.alpha = sum((self.y - self.phi @ self.w)**2) / len(self.y)\n",
    "        return self.w, self.alpha"
   ]
  },
  {
   "cell_type": "code",
   "execution_count": 63,
   "id": "88296908-6bc2-4943-b2f8-ffeaf1f4603d",
   "metadata": {},
   "outputs": [],
   "source": [
    "lregressor = LinearRegression(X, y, m=20, base_function=bfunc1, l=1)\n",
    "\n",
    "w, a = lregressor.fit()\n",
    "phi = lregressor.phi"
   ]
  },
  {
   "cell_type": "code",
   "execution_count": 64,
   "id": "5d044c3c-30b4-4b03-8d12-74eb6b3a1010",
   "metadata": {},
   "outputs": [
    {
     "name": "stdout",
     "output_type": "stream",
     "text": [
      "[ 1.29096804  0.15766783  0.17977828  0.19100082  0.19066149  0.17851696\n",
      "  0.15479787  0.12023534  0.07606798  0.02402792 -0.03369481 -0.09450942\n",
      " -0.15550149 -0.2135278  -0.26532553 -0.30763154 -0.33730709 -0.35146259\n",
      " -0.347577   -0.32360659] 0.2452825835888782\n"
     ]
    }
   ],
   "source": [
    "print(w, a)"
   ]
  },
  {
   "cell_type": "code",
   "execution_count": 65,
   "id": "defa0a46-b395-4d1c-8f4d-329691197329",
   "metadata": {},
   "outputs": [
    {
     "data": {
      "image/png": "[encoded data removed]",
      "text/plain": [
       "<Figure size 432x288 with 1 Axes>"
      ]
     },
     "metadata": {
      "needs_background": "light"
     },
     "output_type": "display_data"
    }
   ],
   "source": [
    "plt.scatter(X, y, alpha=0.3)\n",
    "plt.plot(X, list(map(lambda x: w.dot(x), phi)), color='red')\n",
    "plt.show()"
   ]
  },
  {
   "cell_type": "markdown",
   "id": "91b5f91a-42e0-4c53-b9a0-914620d595ab",
   "metadata": {},
   "source": [
    "---\n",
    "---"
   ]
  },
  {
   "cell_type": "code",
   "execution_count": 66,
   "id": "44a046d1-ab13-4548-85c0-7748a509de53",
   "metadata": {},
   "outputs": [],
   "source": [
    "def func2(x, sd=0.1):\n",
    "    return np.sin(x * 1.5 * np.pi) + (np.random.normal(0, sd, size=len(x)))"
   ]
  },
  {
   "cell_type": "code",
   "execution_count": 67,
   "id": "54077e26-0cdd-48e4-8a56-d5102e9316f6",
   "metadata": {},
   "outputs": [],
   "source": [
    "X = np.linspace(0, 1.5, num=200)\n",
    "y = func2(X, sd=0.25)"
   ]
  },
  {
   "cell_type": "code",
   "execution_count": 68,
   "id": "375c7bf9-068f-43e2-9f48-75d9ea77e88b",
   "metadata": {},
   "outputs": [],
   "source": [
    "from sklearn.model_selection import train_test_split\n",
    "\n",
    "X_train, X_test, y_train, y_test = train_test_split(X, y)"
   ]
  },
  {
   "cell_type": "code",
   "execution_count": 82,
   "id": "811b3b21-505d-4741-8dda-241d7c580089",
   "metadata": {},
   "outputs": [],
   "source": [
    "lregressor = LinearRegression(X_train, y_train, m=10, base_function=bfunc1, l=0.0001)\n",
    "w, a = lregressor.fit()"
   ]
  },
  {
   "cell_type": "code",
   "execution_count": 83,
   "id": "80bccd0b-5e3e-46df-b852-881e9c2333d2",
   "metadata": {},
   "outputs": [
    {
     "name": "stdout",
     "output_type": "stream",
     "text": [
      "[  6.76985014 -64.94508145   8.15213322  42.25704037  41.42110509\n",
      "  16.72468217 -15.4419902  -36.25381714 -27.96604591  22.61613899] 0.06264518437440703\n"
     ]
    }
   ],
   "source": [
    "print(w, a)"
   ]
  },
  {
   "cell_type": "code",
   "execution_count": 84,
   "id": "ff550fd1-1e63-4c51-8686-e6c0e7155e49",
   "metadata": {},
   "outputs": [],
   "source": [
    "y_v_test = lregressor.vectorize(X_test, y_test)\n",
    "\n",
    "res = pd.DataFrame([X_test, list(map(lambda x: w.dot(x), y_v_test))]).T\n",
    "res.columns = ['x','y']\n",
    "res = res.sort_values(by='x')"
   ]
  },
  {
   "cell_type": "code",
   "execution_count": 85,
   "id": "5bc210f6-b4d1-4ce4-90ab-92e275890df2",
   "metadata": {},
   "outputs": [
    {
     "data": {
      "image/png": "[encoded data removed]",
      "text/plain": [
       "<Figure size 432x288 with 1 Axes>"
      ]
     },
     "metadata": {
      "needs_background": "light"
     },
     "output_type": "display_data"
    }
   ],
   "source": [
    "plt.scatter(X_test, y_test, alpha=0.7)\n",
    "plt.scatter(X_train, y_train, alpha=0.4, color='green')\n",
    "plt.plot(res['x'], res['y'], color='red', linewidth=2)\n",
    "plt.show()"
   ]
  },
  {
   "cell_type": "markdown",
   "id": "99f97e8a-886e-47e1-9d3d-d239e37ac3e9",
   "metadata": {},
   "source": [
    "### Otras funciones base"
   ]
  },
  {
   "cell_type": "code",
   "execution_count": 86,
   "id": "c53ea13e-480a-45ed-ac1e-d39de26dff9c",
   "metadata": {},
   "outputs": [],
   "source": [
    "def gaussian_alt(x, mu, gamma=1):\n",
    "    return np.exp(-gamma * np.linalg.norm(mu-x)**2)"
   ]
  },
  {
   "cell_type": "code",
   "execution_count": 87,
   "id": "46f56840-282a-4bcb-bf9d-9130c62bf4c0",
   "metadata": {},
   "outputs": [],
   "source": [
    "def sigmoid_alt(x, mu, sd=1):\n",
    "    def sigma(a):\n",
    "        return 1 / (1 - np.exp(-a))\n",
    "    return sigma((x - mu) / sd)"
   ]
  },
  {
   "cell_type": "code",
   "execution_count": 88,
   "id": "3b720a37-a0eb-456a-8584-5e581199d570",
   "metadata": {},
   "outputs": [],
   "source": [
    "X = np.linspace(0.001, 1.5, num=200)\n",
    "y = func2(X, sd=0.25)"
   ]
  },
  {
   "cell_type": "code",
   "execution_count": 89,
   "id": "8fe44ebf-c053-4ea2-b5ff-5c50eca6ee5b",
   "metadata": {},
   "outputs": [],
   "source": [
    "from sklearn.model_selection import train_test_split\n",
    "\n",
    "X_train, X_test, y_train, y_test = train_test_split(X, y)"
   ]
  },
  {
   "cell_type": "code",
   "execution_count": 90,
   "id": "88f93aa2-b697-46e1-a9d6-7d49b2ad7215",
   "metadata": {},
   "outputs": [],
   "source": [
    "lr_sigmoid = LinearRegression(X_train, y_train, m=2, base_function=sigmoid_alt, l=0.0001)\n",
    "w_s, a_s = lr_sigmoid.fit()"
   ]
  },
  {
   "cell_type": "code",
   "execution_count": 91,
   "id": "08c56022-f63b-482b-aa7a-f9c0d4b354e0",
   "metadata": {},
   "outputs": [],
   "source": [
    "y_s_test = lr_sigmoid.vectorize(X_test, y_test)"
   ]
  },
  {
   "cell_type": "code",
   "execution_count": 92,
   "id": "bb8e86d2-056e-4d01-9142-791fde0f05ba",
   "metadata": {},
   "outputs": [],
   "source": [
    "res_s = pd.DataFrame([X_test, list(map(lambda x: w_s.dot(x), y_s_test))]).T\n",
    "res_s.columns = ['x','y']\n",
    "res_s = res_s.sort_values(by='x')"
   ]
  },
  {
   "cell_type": "code",
   "execution_count": 94,
   "id": "c2b1eeba-f00d-4191-b079-e61c6b376dae",
   "metadata": {},
   "outputs": [
    {
     "data": {
      "image/png": "[encoded data removed]",
      "text/plain": [
       "<Figure size 432x288 with 1 Axes>"
      ]
     },
     "metadata": {
      "needs_background": "light"
     },
     "output_type": "display_data"
    }
   ],
   "source": [
    "plt.scatter(X_test, y_test, alpha=0.7)\n",
    "plt.scatter(X_train, y_train, alpha=0.4, color='green')\n",
    "plt.plot(res['x'], res['y'], color='red', linewidth=2)\n",
    "plt.show()"
   ]
  },
  {
   "cell_type": "code",
   "execution_count": null,
   "id": "8c59b7a1-7953-4be9-91a2-df2028d4cc98",
   "metadata": {},
   "outputs": [],
   "source": []
  }
 ],
 "metadata": {
  "kernelspec": {
   "display_name": "Python 3 (ipykernel)",
   "language": "python",
   "name": "python3"
  },
  "language_info": {
   "codemirror_mode": {
    "name": "ipython",
    "version": 3
   },
   "file_extension": ".py",
   "mimetype": "text/x-python",
   "name": "python",
   "nbconvert_exporter": "python",
   "pygments_lexer": "ipython3",
   "version": "3.8.10"
  }
 },
 "nbformat": 4,
 "nbformat_minor": 5
}
